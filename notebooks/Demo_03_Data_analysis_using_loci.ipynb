{
 "cells": [
  {
   "cell_type": "markdown",
   "metadata": {},
   "source": [
    "# Setup\n",
    "\n",
    "To run the example, a file named `secret.py` must be created in the notebooks\n",
    "folder with the following content:\n",
    "\n",
    "```python\n",
    "# Configuration settings\n",
    "\n",
    "# SLIPO workbench installation\n",
    "BASE_URL = 'https://app.dev.slipo.eu'\n",
    "\n",
    "# SLIPO API key\n",
    "API_KEY = ''\n",
    "```\n",
    "\n",
    "The `API_KEY` value must be set to a valid SLIPO Application Key. The file must be imported before creating a new context:\n",
    "\n",
    "```python\n",
    "from secret import BASE_URL, API_KEY\n",
    "```\n",
    "\n",
    "# Requirements\n",
    "\n",
    "The following modules must be installed:\n",
    "\n",
    "- descartes\n",
    "- geopandas\n",
    "- urbanaccess\n",
    "- pandana\n",
    "- slipo-loci\n",
    "\n",
    "For Ubuntu 18.04, python3-rtree package must be installed e.g.\n",
    "\n",
    "`sudo apt install python3-rtree`"
   ]
  },
  {
   "cell_type": "code",
   "execution_count": null,
   "metadata": {},
   "outputs": [],
   "source": [
    "# Create new context\n",
    "from slipoframes.context import SlipoContext\n",
    "\n",
    "from secret import BASE_URL, API_KEY\n",
    "\n",
    "ctx = SlipoContext(\n",
    "    base_url = BASE_URL,\n",
    "    requires_ssl = False,\n",
    "    api_key = API_KEY\n",
    ")"
   ]
  },
  {
   "cell_type": "markdown",
   "metadata": {},
   "source": [
    "# Data loading\n",
    "\n",
    "In this section, we will query the SLIPO service for the most recent workflow executions. Then we will copy the output file of the last API call from the example `Demo_02_Workflow`."
   ]
  },
  {
   "cell_type": "code",
   "execution_count": null,
   "metadata": {},
   "outputs": [],
   "source": [
    "ctx.process_query(pageIndex=0, pageSize=5)"
   ]
  },
  {
   "cell_type": "code",
   "execution_count": null,
   "metadata": {},
   "outputs": [],
   "source": [
    "# Replace process id value from the most recent export operation\n",
    "export1 = ctx.process_status(461, 1)"
   ]
  },
  {
   "cell_type": "code",
   "execution_count": null,
   "metadata": {},
   "outputs": [],
   "source": [
    "export1.output()"
   ]
  },
  {
   "cell_type": "code",
   "execution_count": null,
   "metadata": {},
   "outputs": [],
   "source": [
    "ctx.process_file_download(export1.output(), target='./output/exported-data.zip', overwrite=True)"
   ]
  },
  {
   "cell_type": "markdown",
   "metadata": {},
   "source": [
    "# Data Processing\n",
    "\n",
    "Once data have been saved locally, analysis can be perfomed using\n",
    "tools like pandas DataFrames, geopanadas GeoDataFrames or other libraries \n",
    "like https://github.com/paulhoule/gastrodon for RDF."
   ]
  },
  {
   "cell_type": "code",
   "execution_count": null,
   "metadata": {},
   "outputs": [],
   "source": [
    "# Unzip output file\n",
    "import os\n",
    "import zipfile\n",
    "\n",
    "with zipfile.ZipFile('./output/exported-data.zip','r') as zip_ref:\n",
    "    zip_ref.extractall(\"./output/\")\n",
    "    \n",
    "os.rename('./output/points.csv', './output/Fuel_Berlin.csv')"
   ]
  },
  {
   "cell_type": "code",
   "execution_count": null,
   "metadata": {},
   "outputs": [],
   "source": [
    "# Load CSV data in a DataFrame\n",
    "import pandas as pd\n",
    "\n",
    "pois = pd.read_csv('./output/Fuel_Berlin.csv', delimiter='|', error_bad_lines=False)\n",
    "\n",
    "pois.head()"
   ]
  },
  {
   "cell_type": "code",
   "execution_count": null,
   "metadata": {},
   "outputs": [],
   "source": [
    "# Since shapely does not supports Extended Well-Known Text, we update the geometry and remove the SRID value\n",
    "pois['the_geom'] = pois['the_geom'].apply(lambda x: x.split(';')[1])\n",
    "pois.head()"
   ]
  },
  {
   "cell_type": "code",
   "execution_count": null,
   "metadata": {},
   "outputs": [],
   "source": [
    "# Create a GeoDataFrame\n",
    "import geopandas\n",
    "from shapely import wkt\n",
    "\n",
    "pois['the_geom'] = pois['the_geom'].apply(wkt.loads)\n",
    "\n",
    "gdf = geopandas.GeoDataFrame(pois, geometry='the_geom')\n",
    "\n",
    "print(gdf.head())"
   ]
  },
  {
   "cell_type": "code",
   "execution_count": null,
   "metadata": {},
   "outputs": [],
   "source": [
    "%matplotlib inline\n",
    "\n",
    "import matplotlib.pyplot as plt\n",
    "\n",
    "world = geopandas.read_file(geopandas.datasets.get_path('naturalearth_lowres'))\n",
    "\n",
    "# We restrict to Romania.\n",
    "ax = world[world.name == 'Germany'].plot(\n",
    "    color='white', edgecolor='black')\n",
    "\n",
    "# We can now plot our GeoDataFrame.\n",
    "gdf.plot(ax=ax, color='blue')\n",
    "\n",
    "plt.show()"
   ]
  },
  {
   "cell_type": "code",
   "execution_count": null,
   "metadata": {},
   "outputs": [],
   "source": [
    "import loci as lc\n",
    "from loci import io\n",
    "from loci import analytics\n",
    "from loci import plots"
   ]
  },
  {
   "cell_type": "code",
   "execution_count": null,
   "metadata": {},
   "outputs": [],
   "source": [
    "pois = lc.io.read_poi_csv(input_file='./output/Fuel_Berlin.csv',\n",
    "                       col_id='id',\n",
    "                       col_name='name',\n",
    "                       col_lon='lon',\n",
    "                       col_lat='lat',\n",
    "                       col_kwds='category',\n",
    "                       col_sep='|',\n",
    "                       kwds_sep=',',\n",
    "                       source_crs='EPSG:4326',\n",
    "                       target_crs='EPSG:4326',\n",
    "                       keep_other_cols=False)\n",
    "pois.head(10)"
   ]
  },
  {
   "cell_type": "code",
   "execution_count": null,
   "metadata": {},
   "outputs": [],
   "source": [
    "# Rename category column\n",
    "pois.rename(columns={'category': 'kwds'}, inplace=True)"
   ]
  },
  {
   "cell_type": "code",
   "execution_count": null,
   "metadata": {},
   "outputs": [],
   "source": [
    "m = lc.plots.map_points(pois.sample(100), show_bbox=True)\n",
    "m"
   ]
  },
  {
   "cell_type": "code",
   "execution_count": null,
   "metadata": {},
   "outputs": [],
   "source": [
    "kf = lc.analytics.kwds_freq(pois)\n",
    "kf"
   ]
  },
  {
   "cell_type": "code",
   "execution_count": null,
   "metadata": {},
   "outputs": [],
   "source": [
    "lc.plots.barchart(kf, plot_title='Top Keywords', x_axis_label='Keywords', y_axis_label='Frequency')"
   ]
  },
  {
   "cell_type": "code",
   "execution_count": null,
   "metadata": {},
   "outputs": [],
   "source": [
    "lc.plots.plot_wordcloud(pois)"
   ]
  },
  {
   "cell_type": "code",
   "execution_count": null,
   "metadata": {},
   "outputs": [],
   "source": [
    "pois_filtered = lc.analytics.filter_by_kwd(pois, 'FUEL')\n",
    "lc.plots.heatmap(pois_filtered, radius=12)"
   ]
  }
 ],
 "metadata": {
  "kernelspec": {
   "display_name": "Python 3",
   "language": "python",
   "name": "python3"
  },
  "language_info": {
   "codemirror_mode": {
    "name": "ipython",
    "version": 3
   },
   "file_extension": ".py",
   "mimetype": "text/x-python",
   "name": "python",
   "nbconvert_exporter": "python",
   "pygments_lexer": "ipython3",
   "version": "3.6.8"
  }
 },
 "nbformat": 4,
 "nbformat_minor": 4
}
