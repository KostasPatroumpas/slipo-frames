{
 "cells": [
  {
   "cell_type": "code",
   "execution_count": 1,
   "metadata": {},
   "outputs": [],
   "source": [
    "from jinja2 import Environment, FileSystemLoader\n",
    "from jinja2 import Template\n",
    "from IPython.display import display, HTML, IFrame"
   ]
  },
  {
   "cell_type": "code",
   "execution_count": 2,
   "metadata": {},
   "outputs": [],
   "source": [
    "env = Environment(\n",
    "    loader=FileSystemLoader('templates'),\n",
    "    autoescape=True\n",
    ")\n",
    "template = env.get_template('basic.html')"
   ]
  },
  {
   "cell_type": "code",
   "execution_count": 3,
   "metadata": {},
   "outputs": [],
   "source": [
    "result = {\n",
    "   \"status\":\"FAILED\",\n",
    "   \"taskType\":\"DATA_INTEGRATION\",\n",
    "   \"id\":74,\n",
    "   \"processId\":46,\n",
    "   \"processVersion\":2,\n",
    "   \"name\":\"Test FAGI\",\n",
    "   \"completedOn\":1536224888309,\n",
    "   \"startedOn\":1536224877916,\n",
    "   \"submittedOn\":1536224877278,\n",
    "   \"steps\":[{\n",
    "     \"name\":\"Interlink 1\",\n",
    "     \"status\":\"COMPLETED\",\n",
    "     \"tool\":\"LIMES\",\n",
    "     \"operation\":\"INTERLINK\",\n",
    "     \"startedOn\":1536224878195,\n",
    "     \"completedOn\":1536224887529,\n",
    "     \"files\":[{\n",
    "       \"id\":2012,\n",
    "       \"type\":\"INPUT\",\n",
    "       \"name\":\"data.nt\",\n",
    "       \"size\":757323,\n",
    "     },{\n",
    "       \"id\":2016,\n",
    "       \"type\":\"CONFIGURATION\",\n",
    "       \"name\":\"config.xml\",\n",
    "       \"size\":1195,\n",
    "     }]\n",
    "   },{\n",
    "     \"name\":\"Fuse 2\",\n",
    "     \"status\":\"FAILED\",\n",
    "     \"tool\":\"FAGI\",\n",
    "     \"operation\":\"FUSION\",\n",
    "     \"startedOn\":1536224887781,\n",
    "     \"completedOn\":1536224888298,\n",
    "     \"files\":[{\n",
    "       \"id\":2017,\n",
    "       \"type\":\"INPUT\",\n",
    "       \"name\":\"accepted.nt\",\n",
    "       \"size\":757323\n",
    "     }]\n",
    "   }],\n",
    " \"success\":True\n",
    "}"
   ]
  },
  {
   "cell_type": "code",
   "execution_count": 4,
   "metadata": {},
   "outputs": [],
   "source": [
    "#template.render()\n"
   ]
  },
  {
   "cell_type": "code",
   "execution_count": 5,
   "metadata": {},
   "outputs": [
    {
     "data": {
      "text/html": [
       "\n",
       "        <iframe\n",
       "            width=\"100%\"\n",
       "            height=\"400\"\n",
       "            src=\"<iframe frameborder=\"0\" style=\"border: 2px solid #cfcfcf;\" \n",
       "    \n",
       "    srcDoc='\n",
       "  \n",
       "  <!DOCTYPE html>\n",
       "  <html lang=\"en\">\n",
       "  <head>\n",
       "      <title>Workflow Viewer</title>\n",
       "      <meta name=\"viewport\" content=\"width=device-width, initial-scale=1.0\">\n",
       "      <meta charset=\"UTF-8\">\n",
       "      <script src=\"https://ajax.googleapis.com/ajax/libs/jquery/3.4.1/jquery.min.js\"></script>\n",
       "  </head>\n",
       "  <body>\n",
       "    <div class=\"responsive-content\"> \n",
       "        <h1 id=\"demo\"> Workflow view</h1>\n",
       "    </div>\n",
       "\n",
       "    <script src=\"templates/workflow.js\"></script>\n",
       "   \n",
       "  </body>\n",
       "</html>\n",
       "'>\n",
       "             \n",
       "</iframe>\n",
       "\"\n",
       "            frameborder=\"0\"\n",
       "            allowfullscreen\n",
       "        ></iframe>\n",
       "        "
      ],
      "text/plain": [
       "<IPython.lib.display.IFrame at 0x7fc8082d1080>"
      ]
     },
     "metadata": {},
     "output_type": "display_data"
    }
   ],
   "source": [
    "display(IFrame(template.render(), width='100%', height=400))\n"
   ]
  },
  {
   "cell_type": "code",
   "execution_count": null,
   "metadata": {},
   "outputs": [],
   "source": []
  },
  {
   "cell_type": "code",
   "execution_count": null,
   "metadata": {},
   "outputs": [],
   "source": []
  }
 ],
 "metadata": {
  "kernelspec": {
   "display_name": "Python 3",
   "language": "python",
   "name": "python3"
  },
  "language_info": {
   "codemirror_mode": {
    "name": "ipython",
    "version": 3
   },
   "file_extension": ".py",
   "mimetype": "text/x-python",
   "name": "python",
   "nbconvert_exporter": "python",
   "pygments_lexer": "ipython3",
   "version": "3.5.2"
  }
 },
 "nbformat": 4,
 "nbformat_minor": 2
}
