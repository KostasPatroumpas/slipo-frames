{
 "cells": [
  {
   "cell_type": "markdown",
   "metadata": {},
   "source": [
    "# Setup\n",
    "\n",
    "To run the example, a file named `secret.py` must be created in the notebooks\n",
    "folder with the following content:\n",
    "\n",
    "```python\n",
    "# Configuration settings\n",
    "\n",
    "# SLIPO workbench installation\n",
    "BASE_URL = 'http://192.168.1.8:8080'\n",
    "\n",
    "# SLIPO API key\n",
    "API_KEY = ''\n",
    "```\n",
    "\n",
    "The file must be imported before creating a new context:\n",
    "\n",
    "```python\n",
    "from secret import BASE_URL, API_KEY\n",
    "```"
   ]
  },
  {
   "cell_type": "code",
   "execution_count": null,
   "metadata": {},
   "outputs": [],
   "source": [
    "# Add slipoframes to path\n",
    "import sys\n",
    "sys.path.append('..')"
   ]
  },
  {
   "cell_type": "code",
   "execution_count": null,
   "metadata": {},
   "outputs": [],
   "source": [
    "# Create new context\n",
    "from slipoframes.context import SlipoContext\n",
    "\n",
    "from secret import BASE_URL, API_KEY\n",
    "\n",
    "ctx = SlipoContext(\n",
    "    base_url = BASE_URL,\n",
    "    requires_ssl = False,\n",
    "    api_key = API_KEY\n",
    ")"
   ]
  },
  {
   "cell_type": "markdown",
   "metadata": {},
   "source": [
    "# Transform operation\n",
    "\n",
    "Next we are going to:\n",
    "\n",
    "* Upload a file to the local file system\n",
    "* Execute a transform operation\n",
    "* Check the operation status\n",
    "* Download the output RDF dataset localy\n",
    "* Perform a simple query on the RDF graph using  [gastrodon](https://github.com/paulhoule/gastrodon). "
   ]
  },
  {
   "cell_type": "code",
   "execution_count": null,
   "metadata": {},
   "outputs": [],
   "source": [
    "# Upload file\n",
    "ctx.file_upload('../datasets/osmpois-berlin.csv', 'notebook/osmpois-berlin.csv', overwrite=True)"
   ]
  },
  {
   "cell_type": "code",
   "execution_count": null,
   "metadata": {},
   "outputs": [],
   "source": [
    "# Browse remote user file system\n",
    "df_files = ctx.file_browse(sort_col='size', format_size=True, sort_asc=False)\n",
    "\n",
    "df_files[df_files['name'].str.startswith(\"osmpois\")]"
   ]
  },
  {
   "cell_type": "code",
   "execution_count": null,
   "metadata": {},
   "outputs": [],
   "source": [
    "# Convert CSV file to N-Triples\n",
    "ctx.transform_csv(\n",
    "    'notebook/osmpois-berlin.csv',\n",
    "    'OSM_Europe',\n",
    "    attrCategory='kwds',\n",
    "    attrKey='id',\n",
    "    attrName='name',\n",
    "    attrX='lon',\n",
    "    attrY='lat',\n",
    "    defaultLang='en',\n",
    "    delimiter=';',\n",
    "    encoding='UTF-8',\n",
    "    featureSource='OSM',\n",
    "    quote='',\n",
    "    sourceCRS='EPSG:4326',\n",
    "    targetCRS='EPSG:4326'\n",
    ")"
   ]
  },
  {
   "cell_type": "code",
   "execution_count": null,
   "metadata": {},
   "outputs": [],
   "source": [
    "# Check process status. Use process id and version values from previous step\n",
    "df_files = ctx.process_status(274, 1)\n",
    "df_files"
   ]
  },
  {
   "cell_type": "code",
   "execution_count": null,
   "metadata": {},
   "outputs": [],
   "source": [
    "# Download output file. Use process id, version and file id from previous steps\n",
    "ctx.process_file_download(274, 1, 5903, '../datasets/osmpois-berlin.nt')"
   ]
  },
  {
   "cell_type": "code",
   "execution_count": null,
   "metadata": {},
   "outputs": [],
   "source": [
    "%%capture\n",
    "%pip install gastrodon"
   ]
  },
  {
   "cell_type": "code",
   "execution_count": null,
   "metadata": {},
   "outputs": [],
   "source": [
    "# Create graph\n",
    "from rdflib import Graph,URIRef\n",
    "from gastrodon import LocalEndpoint,one,QName\n",
    "\n",
    "g = Graph()\n",
    "g.parse('../datasets/osmpois-berlin.nt', format=\"nt\")"
   ]
  },
  {
   "cell_type": "code",
   "execution_count": null,
   "metadata": {},
   "outputs": [],
   "source": [
    "# Get graph size\n",
    "len(g)"
   ]
  },
  {
   "cell_type": "code",
   "execution_count": null,
   "metadata": {},
   "outputs": [],
   "source": [
    "# Create an endpoint and execute a simple query\n",
    "e=LocalEndpoint(g)\n",
    "\n",
    "properties = e.select(\"\"\"\n",
    "   SELECT ?p (COUNT(*) AS ?cnt) {\n",
    "      ?s ?p ?o .\n",
    "   } GROUP BY ?p ORDER BY DESC(?cnt)\n",
    "\"\"\")\n",
    "\n",
    "properties"
   ]
  }
 ],
 "metadata": {
  "kernelspec": {
   "display_name": "Python 3",
   "language": "python",
   "name": "python3"
  },
  "language_info": {
   "codemirror_mode": {
    "name": "ipython",
    "version": 3
   },
   "file_extension": ".py",
   "mimetype": "text/x-python",
   "name": "python",
   "nbconvert_exporter": "python",
   "pygments_lexer": "ipython3",
   "version": "3.6.7"
  }
 },
 "nbformat": 4,
 "nbformat_minor": 2
}
